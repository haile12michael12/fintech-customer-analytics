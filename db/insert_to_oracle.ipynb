{
 "cells": [
  {
   "cell_type": "code",
   "execution_count": 1,
   "id": "70836da2",
   "metadata": {},
   "outputs": [
    {
     "ename": "ModuleNotFoundError",
     "evalue": "No module named 'cx_Oracle'",
     "output_type": "error",
     "traceback": [
      "\u001b[31m---------------------------------------------------------------------------\u001b[39m",
      "\u001b[31mModuleNotFoundError\u001b[39m                       Traceback (most recent call last)",
      "\u001b[36mCell\u001b[39m\u001b[36m \u001b[39m\u001b[32mIn[1]\u001b[39m\u001b[32m, line 1\u001b[39m\n\u001b[32m----> \u001b[39m\u001b[32m1\u001b[39m \u001b[38;5;28;01mimport\u001b[39;00m\u001b[38;5;250m \u001b[39m\u001b[34;01mcx_Oracle\u001b[39;00m\n\u001b[32m      2\u001b[39m \u001b[38;5;28;01mimport\u001b[39;00m\u001b[38;5;250m \u001b[39m\u001b[34;01mpandas\u001b[39;00m\u001b[38;5;250m \u001b[39m\u001b[38;5;28;01mas\u001b[39;00m\u001b[38;5;250m \u001b[39m\u001b[34;01mpd\u001b[39;00m\n",
      "\u001b[31mModuleNotFoundError\u001b[39m: No module named 'cx_Oracle'"
     ]
    }
   ],
   "source": [
    "import cx_Oracle\n",
    "import pandas as pd"
   ]
  },
  {
   "cell_type": "code",
   "execution_count": null,
   "id": "b1bd2f8f",
   "metadata": {},
   "outputs": [],
   "source": [
    "# Load data\n",
    "df = pd.read_csv(\"thematic_analysis.csv\")"
   ]
  },
  {
   "cell_type": "code",
   "execution_count": null,
   "id": "22778d63",
   "metadata": {},
   "outputs": [],
   "source": [
    "# Connect to Oracle\n",
    "conn = cx_Oracle.connect(\"your_user\", \"your_password\", \"localhost/XEPDB1\")\n",
    "cursor = conn.cursor()"
   ]
  },
  {
   "cell_type": "code",
   "execution_count": null,
   "id": "a62aff36",
   "metadata": {},
   "outputs": [],
   "source": [
    "# Insert unique banks\n",
    "banks = df['bank'].unique()\n",
    "bank_map = {}\n",
    "for bank in banks:\n",
    "    cursor.execute(\"INSERT INTO banks (bank_name) VALUES (:1) RETURNING bank_id INTO :2\",\n",
    "                   [bank, cursor.var(cx_Oracle.NUMBER)])\n",
    "    bank_id = cursor.fetchone()[0]\n",
    "    bank_map[bank] = bank_id\n",
    "\n",
    "\n",
    "    # Insert reviews\n",
    "for _, row in df.iterrows():\n",
    "    cursor.execute(\"\"\"\n",
    "        INSERT INTO reviews \n",
    "        (bank_id, review_text, rating, review_date, sentiment_label, sentiment_score, theme, source) \n",
    "        VALUES (:1, :2, :3, TO_DATE(:4, 'YYYY-MM-DD'), :5, :6, :7, :8)\n",
    "    \"\"\", [\n",
    "        bank_map[row['bank']],\n",
    "        row['review'],\n",
    "        int(row['rating']),\n",
    "        row['date'],\n",
    "        row['sentiment_label'],\n",
    "        float(row['sentiment_score']),\n",
    "        row['theme'],\n",
    "        row['source']\n",
    "    ])\n",
    "    \n",
    "conn.commit()\n",
    "cursor.close()\n",
    "conn.close()"
   ]
  }
 ],
 "metadata": {
  "kernelspec": {
   "display_name": ".venv",
   "language": "python",
   "name": "python3"
  },
  "language_info": {
   "codemirror_mode": {
    "name": "ipython",
    "version": 3
   },
   "file_extension": ".py",
   "mimetype": "text/x-python",
   "name": "python",
   "nbconvert_exporter": "python",
   "pygments_lexer": "ipython3",
   "version": "3.13.3"
  }
 },
 "nbformat": 4,
 "nbformat_minor": 5
}
