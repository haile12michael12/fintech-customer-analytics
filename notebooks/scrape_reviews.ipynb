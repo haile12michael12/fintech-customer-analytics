{
 "cells": [
  {
   "cell_type": "code",
   "execution_count": null,
   "id": "e18df021",
   "metadata": {},
   "outputs": [],
   "source": []
  },
  {
   "cell_type": "code",
   "execution_count": 5,
   "id": "09b7033f",
   "metadata": {},
   "outputs": [],
   "source": [
    "from google_play_scraper import Sort, reviews_all\n",
    "import csv\n",
    "from datetime import datetime\n",
    "import pandas as pd\n",
    "import logging\n",
    "import time\n"
   ]
  },
  {
   "cell_type": "code",
   "execution_count": 6,
   "id": "4f2d5377",
   "metadata": {},
   "outputs": [],
   "source": [
    "apps = {\n",
    "'CBE' : 'com.combanketh.mobilebanking',\n",
    "'BOA': 'com.boa.boaMobileBanking',\n",
    "'Dashen':  'com.dashen.dashensuperapp'\n",
    "}"
   ]
  },
  {
   "cell_type": "code",
   "execution_count": 7,
   "id": "6e3c955c",
   "metadata": {},
   "outputs": [
    {
     "name": "stdout",
     "output_type": "stream",
     "text": [
      "Scraping CBE...\n",
      "Scraping BOA...\n",
      "Scraping Dashen...\n"
     ]
    }
   ],
   "source": [
    "all_reviews = []\n",
    "\n",
    "for bank, app_id in apps.items():\n",
    "    print(f\"Scraping {bank}...\")\n",
    "    reviews = reviews_all(\n",
    "        app_id,\n",
    "        lang='en',\n",
    "        country='us',\n",
    "        sort=Sort.NEWEST,\n",
    "        sleep_milliseconds=100\n",
    "    )\n",
    "    for r in reviews:\n",
    "        all_reviews.append({\n",
    "            \"review\": r[\"content\"],\n",
    "            \"rating\": r[\"score\"],\n",
    "            \"date\": r[\"at\"].strftime(\"%Y-%m-%d\"),\n",
    "            \"bank\": bank,\n",
    "            \"source\": \"Google Play\"\n",
    "        })"
   ]
  },
  {
   "cell_type": "code",
   "execution_count": 8,
   "id": "fc856ede",
   "metadata": {},
   "outputs": [],
   "source": [
    "df = pd.DataFrame(all_reviews)\n",
    "df.to_csv(\"raw_reviews.csv\", index=False)"
   ]
  }
 ],
 "metadata": {
  "kernelspec": {
   "display_name": ".venv",
   "language": "python",
   "name": "python3"
  },
  "language_info": {
   "codemirror_mode": {
    "name": "ipython",
    "version": 3
   },
   "file_extension": ".py",
   "mimetype": "text/x-python",
   "name": "python",
   "nbconvert_exporter": "python",
   "pygments_lexer": "ipython3",
   "version": "3.13.3"
  }
 },
 "nbformat": 4,
 "nbformat_minor": 5
}
