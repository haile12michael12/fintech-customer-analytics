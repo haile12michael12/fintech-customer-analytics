{
 "cells": [
  {
   "cell_type": "code",
   "execution_count": 1,
   "id": "ee302fb4",
   "metadata": {},
   "outputs": [],
   "source": [
    "import pandas as pd"
   ]
  },
  {
   "cell_type": "code",
   "execution_count": 2,
   "id": "c6c2c949",
   "metadata": {},
   "outputs": [],
   "source": [
    "RAW_PATH = \"data/bank_reviews_raw.csv\"\n",
    "CLEAN_PATH = \"data/bank_reviews_clean.csv\""
   ]
  },
  {
   "cell_type": "code",
   "execution_count": null,
   "id": "262a2937",
   "metadata": {},
   "outputs": [],
   "source": [
    " # Clean and preprocess the scraped reviews"
   ]
  },
  {
   "cell_type": "code",
   "execution_count": 3,
   "id": "f3ad4473",
   "metadata": {},
   "outputs": [],
   "source": [
    "def preprocess():\n",
    "    df = pd.read_csv(RAW_PATH)\n",
    "    \n",
    "    # Remove duplicates\n",
    "    df = df.drop_duplicates(subset=[\"review\", \"bank\"])\n",
    "    \n",
    "    # Remove rows with missing review or rating\n",
    "    df = df.dropna(subset=[\"review\", \"rating\"])\n",
    "    \n",
    "    # Normalize date\n",
    "    df[\"date\"] = pd.to_datetime(df[\"date\"], errors=\"coerce\").dt.strftime('%Y-%m-%d')\n",
    "    \n",
    "    # Remove rows with missing dates after conversion\n",
    "    df = df.dropna(subset=[\"date\"])\n",
    "    \n",
    "    # Reorder columns\n",
    "    df = df[[\"review\", \"rating\", \"date\", \"bank\", \"source\"]]\n",
    "    \n",
    "    df.to_csv(CLEAN_PATH, index=False)\n",
    "    print(f\"Preprocessing complete. Clean data saved to {CLEAN_PATH}\")\n",
    "\n"
   ]
  },
  {
   "cell_type": "code",
   "execution_count": 4,
   "id": "cc67511f",
   "metadata": {},
   "outputs": [
    {
     "name": "stdout",
     "output_type": "stream",
     "text": [
      "Preprocessing complete. Clean data saved to data/bank_reviews_clean.csv\n"
     ]
    }
   ],
   "source": [
    "if __name__ == \"__main__\":\n",
    "    preprocess()"
   ]
  },
  {
   "cell_type": "code",
   "execution_count": null,
   "id": "d034aacc",
   "metadata": {},
   "outputs": [],
   "source": []
  }
 ],
 "metadata": {
  "kernelspec": {
   "display_name": ".venv",
   "language": "python",
   "name": "python3"
  },
  "language_info": {
   "codemirror_mode": {
    "name": "ipython",
    "version": 3
   },
   "file_extension": ".py",
   "mimetype": "text/x-python",
   "name": "python",
   "nbconvert_exporter": "python",
   "pygments_lexer": "ipython3",
   "version": "3.13.3"
  }
 },
 "nbformat": 4,
 "nbformat_minor": 5
}
