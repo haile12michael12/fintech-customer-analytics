{
 "cells": [
  {
   "cell_type": "code",
   "execution_count": 1,
   "id": "ee302fb4",
   "metadata": {},
   "outputs": [],
   "source": [
    "import pandas as pd"
   ]
  },
  {
   "cell_type": "code",
   "execution_count": 2,
   "id": "c6c2c949",
   "metadata": {},
   "outputs": [],
   "source": [
    "df = pd.read_csv(\"raw_reviews.csv\")"
   ]
  },
  {
   "cell_type": "code",
   "execution_count": 3,
   "id": "f3ad4473",
   "metadata": {},
   "outputs": [],
   "source": [
    "# Drop duplicates and missing\n",
    "df.drop_duplicates(subset=[\"review\"], inplace=True)\n",
    "df.dropna(subset=[\"review\", \"rating\", \"date\"], inplace=True)"
   ]
  },
  {
   "cell_type": "code",
   "execution_count": 4,
   "id": "cc67511f",
   "metadata": {},
   "outputs": [],
   "source": [
    "# Normalize date format\n",
    "df[\"date\"] = pd.to_datetime(df[\"date\"]).dt.strftime(\"%Y-%m-%d\")"
   ]
  },
  {
   "cell_type": "code",
   "execution_count": 5,
   "id": "d034aacc",
   "metadata": {},
   "outputs": [
    {
     "name": "stdout",
     "output_type": "stream",
     "text": [
      "Cleaned dataset saved. Total records: 6308\n"
     ]
    }
   ],
   "source": [
    "# Save cleaned version\n",
    "df.to_csv(\"cleaned_reviews.csv\", index=False)\n",
    "print(f\"Cleaned dataset saved. Total records: {len(df)}\")"
   ]
  }
 ],
 "metadata": {
  "kernelspec": {
   "display_name": ".venv",
   "language": "python",
   "name": "python3"
  },
  "language_info": {
   "codemirror_mode": {
    "name": "ipython",
    "version": 3
   },
   "file_extension": ".py",
   "mimetype": "text/x-python",
   "name": "python",
   "nbconvert_exporter": "python",
   "pygments_lexer": "ipython3",
   "version": "3.13.3"
  }
 },
 "nbformat": 4,
 "nbformat_minor": 5
}
