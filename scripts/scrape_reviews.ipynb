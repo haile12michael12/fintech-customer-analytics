{
 "cells": [
  {
   "cell_type": "code",
   "execution_count": null,
   "id": "c0d057cc",
   "metadata": {},
   "outputs": [],
   "source": []
  },
  {
   "cell_type": "code",
   "execution_count": 5,
   "id": "b9b10a66",
   "metadata": {},
   "outputs": [],
   "source": [
    "import pandas as pd\n",
    "from google_play_scraper import reviews\n",
    "import sys"
   ]
  },
  {
   "cell_type": "code",
   "execution_count": null,
   "id": "0eb97e65",
   "metadata": {},
   "outputs": [],
   "source": [
    " # Bank apps to scrape (package names from Google Play Store)"
   ]
  },
  {
   "cell_type": "code",
   "execution_count": 6,
   "id": "3d5c7c58",
   "metadata": {},
   "outputs": [],
   "source": [
    "BANK_APPS =  {\n",
    "'CBE' : 'com.combanketh.mobilebanking',\n",
    "'BOA': 'com.boa.boaMobileBanking',\n",
    "'Dashen':  'com.dashen.dashensuperapp'\n",
    "}"
   ]
  },
  {
   "cell_type": "code",
   "execution_count": 7,
   "id": "eeddc475",
   "metadata": {},
   "outputs": [],
   "source": [
    "REVIEWS_PER_BANK = 400"
   ]
  },
  {
   "cell_type": "code",
   "execution_count": null,
   "id": "96a78bda",
   "metadata": {},
   "outputs": [
    {
     "name": "stdout",
     "output_type": "stream",
     "text": [
      "Scraping CBE...\n",
      "Scraping BOA...\n",
      "Scraping Dashen...\n",
      "Done! Saved raw reviews to data/bank_reviews_raw.csv\n"
     ]
    }
   ],
   "source": [
    "def scrape_bank_reviews(bank_name, app_id, n_reviews):\n",
    "    all_reviews = []\n",
    "    count = 0\n",
    "    next_token = None\n",
    "    while count < n_reviews:\n",
    "        batch, next_token = reviews(\n",
    "            app_id,\n",
    "            lang='en',\n",
    "            country='us',\n",
    "            count=min(200, n_reviews-count),  \n",
    "            continuation_token=next_token\n",
    "        )\n",
    "        for r in batch:\n",
    "            all_reviews.append({\n",
    "                \"review\": r.get(\"content\", \"\"),\n",
    "                \"rating\": r.get(\"score\", None),\n",
    "                \"date\": r.get(\"at\", \"\"),\n",
    "                \"bank\": bank_name,\n",
    "                \"source\": \"Google Play\"\n",
    "            })\n",
    "        count += len(batch)\n",
    "        if not next_token or not batch:\n",
    "            break\n",
    "    return all_reviews\n",
    "\n",
    "def main():\n",
    "    all_data = []\n",
    "    for bank, app_id in BANK_APPS.items():\n",
    "        print(f\"Scraping {bank}...\")\n",
    "        data = scrape_bank_reviews(bank, app_id, REVIEWS_PER_BANK)\n",
    "        all_data.extend(data)\n",
    "    df = pd.DataFrame(all_data)\n",
    "    df.to_csv(\"data/bank_reviews_raw.csv\", index=False)\n",
    "    print(\"Done! Saved raw reviews to data/bank_reviews_raw.csv\")\n",
    "\n",
    "if __name__ == \"__main__\":\n",
    "    main()"
   ]
  }
 ],
 "metadata": {
  "kernelspec": {
   "display_name": ".venv",
   "language": "python",
   "name": "python3"
  },
  "language_info": {
   "codemirror_mode": {
    "name": "ipython",
    "version": 3
   },
   "file_extension": ".py",
   "mimetype": "text/x-python",
   "name": "python",
   "nbconvert_exporter": "python",
   "pygments_lexer": "ipython3",
   "version": "3.13.3"
  }
 },
 "nbformat": 4,
 "nbformat_minor": 5
}
