{
 "cells": [
  {
   "cell_type": "code",
   "execution_count": null,
   "id": "1e14f265",
   "metadata": {},
   "outputs": [],
   "source": []
  },
  {
   "cell_type": "code",
   "execution_count": 5,
   "id": "fe2d97ef",
   "metadata": {},
   "outputs": [],
   "source": [
    "from sklearn.feature_extraction.text import TfidfVectorizer\n",
    "import pandas as pd\n",
    "from sklearn.feature_extraction.text import TfidfVectorizer"
   ]
  },
  {
   "cell_type": "code",
   "execution_count": 6,
   "id": "e769dbb0",
   "metadata": {},
   "outputs": [],
   "source": [
    "df = pd.read_csv(\"data/bank_reviews_clean.csv\")\n",
    "\n"
   ]
  },
  {
   "cell_type": "code",
   "execution_count": 7,
   "id": "749b21bb",
   "metadata": {},
   "outputs": [],
   "source": [
    "# Basic preprocessing\n",
    "df['review'] = df['review'].str.lower().fillna(\"\")\n",
    "\n",
    "vectorizer = TfidfVectorizer(ngram_range=(1, 2), stop_words='english', max_features=100)\n",
    "X = vectorizer.fit_transform(df['review'])\n",
    "features = vectorizer.get_feature_names_out()"
   ]
  },
  {
   "cell_type": "code",
   "execution_count": 8,
   "id": "3410922a",
   "metadata": {},
   "outputs": [
    {
     "name": "stdout",
     "output_type": "stream",
     "text": [
      "CBE: ['2025' 'access' 'account' 'add' 'amazing' 'app' 'application' 'apps'\n",
      " 'bad' 'bank']\n",
      "BOA: ['account' 'amazing' 'android' 'app' 'application' 'apps' 'available'\n",
      " 'awesome' 'bad' 'bank']\n",
      "Dashen: ['able' 'account' 'ahead' 'amazing' 'amazing app' 'app' 'application'\n",
      " 'bank' 'bank super' 'banking']\n"
     ]
    }
   ],
   "source": [
    "# Extract top N keywords per bank\n",
    "bank_keywords = {}\n",
    "for bank in df['bank'].unique():\n",
    "    texts = df[df['bank'] == bank]['review']\n",
    "    vec = TfidfVectorizer(ngram_range=(1, 2), stop_words='english', max_features=100)\n",
    "    X_bank = vec.fit_transform(texts)\n",
    "    keywords = vec.get_feature_names_out()\n",
    "    bank_keywords[bank] = keywords[:10]  # Top 10 keywords\n",
    "\n",
    "# Save top keywords\n",
    "for bank, keywords in bank_keywords.items():\n",
    "    print(f\"{bank}: {keywords}\")"
   ]
  },
  {
   "cell_type": "code",
   "execution_count": 9,
   "id": "315106f3",
   "metadata": {},
   "outputs": [],
   "source": [
    "def assign_theme(text):\n",
    "    text = str(text).lower()\n",
    "    if any(word in text for word in ['login', 'sign', 'password']):\n",
    "        return \"Account Access Issues\"\n",
    "    elif any(word in text for word in ['transfer', 'delay', 'money', 'failed']):\n",
    "        return \"Transaction Problems\"\n",
    "    elif any(word in text for word in ['ui', 'interface', 'navigation', 'design']):\n",
    "        return \"UI/UX\"\n",
    "    else:\n",
    "        return \"Other\"\n",
    "\n",
    "df['theme'] = df['review'].apply(assign_theme)\n",
    "df.to_csv(\"thematic_analysis.csv\", index=False)"
   ]
  }
 ],
 "metadata": {
  "kernelspec": {
   "display_name": ".venv",
   "language": "python",
   "name": "python3"
  },
  "language_info": {
   "codemirror_mode": {
    "name": "ipython",
    "version": 3
   },
   "file_extension": ".py",
   "mimetype": "text/x-python",
   "name": "python",
   "nbconvert_exporter": "python",
   "pygments_lexer": "ipython3",
   "version": "3.13.3"
  }
 },
 "nbformat": 4,
 "nbformat_minor": 5
}
