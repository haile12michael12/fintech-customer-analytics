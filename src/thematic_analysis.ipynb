{
 "cells": [
  {
   "cell_type": "code",
   "execution_count": null,
   "id": "1e14f265",
   "metadata": {},
   "outputs": [],
   "source": []
  },
  {
   "cell_type": "code",
   "execution_count": 1,
   "id": "fe2d97ef",
   "metadata": {},
   "outputs": [
    {
     "ename": "ModuleNotFoundError",
     "evalue": "No module named 'utils_nlp'",
     "output_type": "error",
     "traceback": [
      "\u001b[31m---------------------------------------------------------------------------\u001b[39m",
      "\u001b[31mModuleNotFoundError\u001b[39m                       Traceback (most recent call last)",
      "\u001b[36mCell\u001b[39m\u001b[36m \u001b[39m\u001b[32mIn[1]\u001b[39m\u001b[32m, line 3\u001b[39m\n\u001b[32m      1\u001b[39m \u001b[38;5;28;01mimport\u001b[39;00m\u001b[38;5;250m \u001b[39m\u001b[34;01mpandas\u001b[39;00m\u001b[38;5;250m \u001b[39m\u001b[38;5;28;01mas\u001b[39;00m\u001b[38;5;250m \u001b[39m\u001b[34;01mpd\u001b[39;00m\n\u001b[32m      2\u001b[39m \u001b[38;5;28;01mfrom\u001b[39;00m\u001b[38;5;250m \u001b[39m\u001b[34;01msklearn\u001b[39;00m\u001b[34;01m.\u001b[39;00m\u001b[34;01mfeature_extraction\u001b[39;00m\u001b[34;01m.\u001b[39;00m\u001b[34;01mtext\u001b[39;00m\u001b[38;5;250m \u001b[39m\u001b[38;5;28;01mimport\u001b[39;00m TfidfVectorizer\n\u001b[32m----> \u001b[39m\u001b[32m3\u001b[39m \u001b[38;5;28;01mfrom\u001b[39;00m\u001b[38;5;250m \u001b[39m\u001b[34;01mutils_nlp\u001b[39;00m\u001b[38;5;250m \u001b[39m\u001b[38;5;28;01mimport\u001b[39;00m preprocess_text\n",
      "\u001b[31mModuleNotFoundError\u001b[39m: No module named 'utils_nlp'"
     ]
    }
   ],
   "source": [
    "import pandas as pd\n",
    "from sklearn.feature_extraction.text import TfidfVectorizer\n",
    "from utils_nlp import preprocess_text"
   ]
  },
  {
   "cell_type": "code",
   "execution_count": null,
   "id": "e769dbb0",
   "metadata": {},
   "outputs": [],
   "source": [
    "df = pd.read_csv(\"data/bank_reviews_with_sentiment.csv\")\n",
    "df[\"clean_review\"] = df[\"review\"].fillna(\"\").apply(preprocess_text)\n"
   ]
  },
  {
   "cell_type": "code",
   "execution_count": null,
   "id": "749b21bb",
   "metadata": {},
   "outputs": [],
   "source": [
    "tfidf = TfidfVectorizer(max_features=150, ngram_range=(1,2))\n",
    "tfidf_matrix = tfidf.fit_transform(df[\"clean_review\"])\n",
    "feature_names = tfidf.get_feature_names_out()\n",
    "keywords = []\n",
    "for row in tfidf_matrix:\n",
    "    top_indices = row.toarray()[0].argsort()[-5:][::-1]\n",
    "    kws = [feature_names[idx] for idx in top_indices if row[0, idx] > 0]\n",
    "    keywords.append(\", \".join(kws))\n",
    "df[\"keywords\"] = keywords\n",
    "\n",
    "# Manual/grouped themes (you will document this logic in README/notebook)\n",
    "def assign_theme(keywords):\n",
    "    if any(word in keywords for word in [\"login\", \"access\", \"password\"]):\n",
    "        return \"Account Access Issues\"\n",
    "    if any(word in keywords for word in [\"transfer\", \"transaction\", \"delay\", \"balance\"]):\n",
    "        return \"Transaction Performance\"\n",
    "    if any(word in keywords for word in [\"ui\", \"interface\", \"easy\", \"design\"]):\n",
    "        return \"User Interface & Experience\"\n",
    "    if any(word in keywords for word in [\"support\", \"help\", \"response\"]):\n",
    "        return \"Customer Support\"\n",
    "    if any(word in keywords for word in [\"feature\", \"add\", \"missing\"]):\n",
    "        return \"Feature Requests\"\n",
    "    return \"Other\"\n",
    "\n",
    "df[\"theme\"] = df[\"keywords\"].apply(assign_theme)\n",
    "df.to_csv(\"data/bank_reviews_with_themes.csv\", index=False)"
   ]
  }
 ],
 "metadata": {
  "kernelspec": {
   "display_name": ".venv",
   "language": "python",
   "name": "python3"
  },
  "language_info": {
   "codemirror_mode": {
    "name": "ipython",
    "version": 3
   },
   "file_extension": ".py",
   "mimetype": "text/x-python",
   "name": "python",
   "nbconvert_exporter": "python",
   "pygments_lexer": "ipython3",
   "version": "3.13.3"
  }
 },
 "nbformat": 4,
 "nbformat_minor": 5
}
